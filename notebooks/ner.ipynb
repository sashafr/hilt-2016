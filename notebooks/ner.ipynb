{
 "cells": [
  {
   "cell_type": "code",
   "execution_count": 1,
   "metadata": {
    "collapsed": false
   },
   "outputs": [
    {
     "name": "stdout",
     "output_type": "stream",
     "text": [
      "\n",
      "    Warning: no model found for 'en'\n",
      "\n",
      "    Only loading the 'en' tokenizer.\n",
      "\n"
     ]
    }
   ],
   "source": [
    "import spacy\n",
    "import pandas\n",
    "\n",
    "nlp = spacy.load('en')\n",
    "\n",
    "with open('../texts/80-days.txt') as iput:\n",
    "    eighty_days_text = nlp(iput.read())\n",
    "    \n",
    "    entities = list(eighty_days_text.ents)\n",
    "    \n",
    "    loc_tokens = [entity.orth_ for entity in entities if entity.label_ in ['LOC','GPE']][0:20]\n",
    "    pandas.DataFrame(loc_tokens)"
   ]
  }
 ],
 "metadata": {
  "kernelspec": {
   "display_name": "Python 3",
   "language": "python",
   "name": "python3"
  },
  "language_info": {
   "codemirror_mode": {
    "name": "ipython",
    "version": 3
   },
   "file_extension": ".py",
   "mimetype": "text/x-python",
   "name": "python",
   "nbconvert_exporter": "python",
   "pygments_lexer": "ipython3",
   "version": "3.6.0"
  }
 },
 "nbformat": 4,
 "nbformat_minor": 2
}
